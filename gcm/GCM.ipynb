{
 "cells": [
  {
   "cell_type": "code",
   "execution_count": 1,
   "metadata": {},
   "outputs": [],
   "source": [
    "from sympy import *\n",
    "init_printing()"
   ]
  },
  {
   "cell_type": "code",
   "execution_count": 2,
   "metadata": {},
   "outputs": [
    {
     "data": {
      "image/png": "[encoded data removed]",
      "text/latex": [
       "$$\\left ( x, \\quad \\lambda, \\quad R^{+}, \\quad R^{-}, \\quad t, \\quad u, \\quad v\\right )$$"
      ],
      "text/plain": [
       "(x, \\lambda, R⁺, R⁻, t, u, v)"
      ]
     },
     "execution_count": 2,
     "metadata": {},
     "output_type": "execute_result"
    }
   ],
   "source": [
    "x, lamda, Rp, Rm, t, u, v = symbols('x \\lambda R^+ R^- t u v')\n",
    "x, lamda, Rp, Rm, t, u, v\n",
    "\n",
    "## Only makes expressions more complex\n",
    "#x, lamda, Rp, Rm = symbols('x \\lambda R^+ R^-', real=True)\n",
    "#t, u, v = symbols('t u v', positive=True)"
   ]
  },
  {
   "cell_type": "markdown",
   "metadata": {},
   "source": [
    "## Grid-characteristic method derivation\n",
    "\n",
    "Consider Hopf equation:\n",
    "\n",
    "$$\n",
    "\\dfrac{\\partial u}{\\partial t} + u \\dfrac{\\partial u}{\\partial x} = 0\n",
    "$$\n",
    "\n",
    "With initial conditions:\n",
    "\n",
    "$$\n",
    "u(x, 0) = \\phi(x) \\ge \\varepsilon > 0\n",
    "$$\n",
    "\n",
    "Divergent form:\n",
    "\n",
    "$$\n",
    "\\dfrac{\\partial u}{\\partial t} + \\dfrac{\\partial}{\\partial x} \\dfrac{u^2}{2} = 0\n",
    "$$\n",
    "\n",
    "Let $v = u^2$\n",
    "\n",
    "By multiplication by $2 u$ second divergent form can be got:\n",
    "\n",
    "$$\n",
    "\\dfrac{\\partial u^2}{\\partial t} + \\dfrac{\\partial}{\\partial x} \\dfrac{2u^3}{3} = \n",
    "\\dfrac{\\partial v}{\\partial t} + \\dfrac{2}{3} \\dfrac{\\partial u v}{\\partial x} = \n",
    "\\dfrac{\\partial v}{\\partial t} + \\dfrac{2 v}{3} \\dfrac{\\partial u}{\\partial x} + \\dfrac{2 u}{3} \\dfrac{\\partial v}{\\partial x} = 0\n",
    "$$\n",
    "\n",
    "Whole system:\n",
    "\n",
    "$$\n",
    "\\begin{cases}\n",
    "    \\dfrac{\\partial u}{\\partial t} + \\dfrac{\\partial}{\\partial x} \\dfrac{u^2}{2} = 0 \\\\ \\\\\n",
    "    \\dfrac{\\partial v}{\\partial t} + \\dfrac{2 v}{3} \\dfrac{\\partial u}{\\partial x} + \\dfrac{2 u}{3} \\dfrac{\\partial v}{\\partial x} = 0\n",
    "\\end{cases}\n",
    "$$\n",
    "\n",
    "Or:\n",
    "\n",
    "$$\n",
    "\\dfrac{\\partial}{\\partial t} \\begin{bmatrix} u \\\\ v \\end{bmatrix} + A \\dfrac{\\partial}{\\partial x} \\begin{bmatrix} u \\\\ v \\end{bmatrix} = \\begin{bmatrix} 0 \\\\ 0 \\end{bmatrix}\n",
    "$$\n",
    "\n",
    "Where:\n",
    "\n",
    "$$\n",
    "A = \\begin{bmatrix} 0 & \\dfrac{1}{2} \\\\ \\dfrac{2 v}{3} & \\dfrac{2 u}{3} \\end{bmatrix}\n",
    "$$"
   ]
  },
  {
   "cell_type": "code",
   "execution_count": 3,
   "metadata": {},
   "outputs": [
    {
     "data": {
      "image/png": "[encoded data removed]",
      "text/latex": [
       "$$\\left[\\begin{matrix}0 & \\frac{1}{2}\\\\\\frac{2 v}{3} & \\frac{2 u}{3}\\end{matrix}\\right]$$"
      ],
      "text/plain": [
       "⎡ 0   1/2⎤\n",
       "⎢        ⎥\n",
       "⎢2⋅v  2⋅u⎥\n",
       "⎢───  ───⎥\n",
       "⎣ 3    3 ⎦"
      ]
     },
     "execution_count": 3,
     "metadata": {},
     "output_type": "execute_result"
    }
   ],
   "source": [
    "A = Matrix([\n",
    "    [0, '1/2'], \n",
    "    [2 * v / 3, 2 * u / 3]\n",
    "])\n",
    "A"
   ]
  },
  {
   "cell_type": "markdown",
   "metadata": {},
   "source": [
    "Characteristic polynomial of $A$: $|A - \\lambda E| = 0 $"
   ]
  },
  {
   "cell_type": "code",
   "execution_count": 4,
   "metadata": {},
   "outputs": [
    {
     "data": {
      "image/png": "[encoded data removed]",
      "text/latex": [
       "$$\\operatorname{PurePoly}{\\left( \\lambda^{2} -  \\frac{2 u}{3} \\lambda -  \\frac{v}{3}, \\lambda, domain=\\mathbb{Q}\\left[u, v\\right] \\right)}$$"
      ],
      "text/plain": [
       "PurePoly(\\lambda**2 - 2*u/3*\\lambda - v/3, \\lambda, domain='QQ[u,v]')"
      ]
     },
     "execution_count": 4,
     "metadata": {},
     "output_type": "execute_result"
    }
   ],
   "source": [
    "charpoly = A.charpoly(lamda)\n",
    "charpoly"
   ]
  },
  {
   "cell_type": "code",
   "execution_count": 5,
   "metadata": {},
   "outputs": [
    {
     "data": {
      "image/png": "[encoded data removed]",
      "text/latex": [
       "$$\\left ( \\frac{u}{3} - \\frac{\\sqrt{u^{2} + 3 v}}{3}, \\quad \\frac{u}{3} + \\frac{\\sqrt{u^{2} + 3 v}}{3}\\right )$$"
      ],
      "text/plain": [
       "⎛       __________         __________⎞\n",
       "⎜      ╱  2               ╱  2       ⎟\n",
       "⎜u   ╲╱  u  + 3⋅v   u   ╲╱  u  + 3⋅v ⎟\n",
       "⎜─ - ─────────────, ─ + ─────────────⎟\n",
       "⎝3         3        3         3      ⎠"
      ]
     },
     "execution_count": 5,
     "metadata": {},
     "output_type": "execute_result"
    }
   ],
   "source": [
    "l1, l2 = solve(charpoly, lamda)\n",
    "l1, l2"
   ]
  },
  {
   "cell_type": "markdown",
   "metadata": {},
   "source": [
    "By left-side diagonalization of $A$ the system can be transformed to:\n",
    "\n"
   ]
  },
  {
   "cell_type": "code",
   "execution_count": 6,
   "metadata": {},
   "outputs": [
    {
     "data": {
      "image/png": "[encoded data removed]",
      "text/latex": [
       "$$\\left ( \\left[\\begin{matrix}- \\frac{3}{4 \\sqrt{u^{2} + 3 v}} & \\frac{3}{4 \\sqrt{u^{2} + 3 v}}\\\\- \\frac{u}{2 \\sqrt{u^{2} + 3 v}} + \\frac{1}{2} & \\frac{u}{2 \\sqrt{u^{2} + 3 v}} + \\frac{1}{2}\\end{matrix}\\right], \\quad \\left[\\begin{matrix}- \\frac{2 u}{3} - \\frac{2 \\sqrt{u^{2} + 3 v}}{3} & 1\\\\- \\frac{2 u}{3} + \\frac{2 \\sqrt{u^{2} + 3 v}}{3} & 1\\end{matrix}\\right], \\quad \\left[\\begin{matrix}\\frac{u}{3} - \\frac{\\sqrt{u^{2} + 3 v}}{3} & 0\\\\0 & \\frac{u}{3} + \\frac{\\sqrt{u^{2} + 3 v}}{3}\\end{matrix}\\right]\\right )$$"
      ],
      "text/plain": [
       "⎛⎡         -3                     3         ⎤  ⎡             __________   ⎤  ⎡\n",
       "⎜⎢   ───────────────       ───────────────  ⎥  ⎢            ╱  2          ⎥  ⎢\n",
       "⎜⎢        __________            __________  ⎥  ⎢  2⋅u   2⋅╲╱  u  + 3⋅v    ⎥  ⎢\n",
       "⎜⎢       ╱  2                  ╱  2         ⎥  ⎢- ─── - ───────────────  1⎥  ⎢\n",
       "⎜⎢   4⋅╲╱  u  + 3⋅v        4⋅╲╱  u  + 3⋅v   ⎥  ⎢   3           3          ⎥  ⎢\n",
       "⎜⎢                                          ⎥, ⎢                          ⎥, ⎢\n",
       "⎜⎢         u          1         u          1⎥  ⎢             __________   ⎥  ⎢\n",
       "⎜⎢- ─────────────── + ─  ─────────────── + ─⎥  ⎢            ╱  2          ⎥  ⎢\n",
       "⎜⎢       __________   2       __________   2⎥  ⎢  2⋅u   2⋅╲╱  u  + 3⋅v    ⎥  ⎢\n",
       "⎜⎢      ╱  2                 ╱  2           ⎥  ⎢- ─── + ───────────────  1⎥  ⎢\n",
       "⎝⎣  2⋅╲╱  u  + 3⋅v       2⋅╲╱  u  + 3⋅v     ⎦  ⎣   3           3          ⎦  ⎣\n",
       "\n",
       "       __________                   ⎤⎞\n",
       "      ╱  2                          ⎥⎟\n",
       "u   ╲╱  u  + 3⋅v                    ⎥⎟\n",
       "─ - ─────────────          0        ⎥⎟\n",
       "3         3                         ⎥⎟\n",
       "                                    ⎥⎟\n",
       "                          __________⎥⎟\n",
       "                         ╱  2       ⎥⎟\n",
       "                   u   ╲╱  u  + 3⋅v ⎥⎟\n",
       "        0          ─ + ─────────────⎥⎟\n",
       "                   3         3      ⎦⎠"
      ]
     },
     "execution_count": 6,
     "metadata": {},
     "output_type": "execute_result"
    }
   ],
   "source": [
    "H, L = A.T.diagonalize()\n",
    "H = simplify(H.T)\n",
    "simplify(H.inv()), H, L"
   ]
  },
  {
   "cell_type": "code",
   "execution_count": 7,
   "metadata": {},
   "outputs": [
    {
     "data": {
      "text/plain": [
       "True"
      ]
     },
     "execution_count": 7,
     "metadata": {},
     "output_type": "execute_result"
    }
   ],
   "source": [
    "A == simplify(H.inv() * L * H)"
   ]
  },
  {
   "cell_type": "code",
   "execution_count": 8,
   "metadata": {},
   "outputs": [
    {
     "data": {
      "image/png": "[encoded data removed]",
      "text/latex": [
       "$$\\left ( \\delta u, \\quad \\delta v, \\quad \\delta R^+, \\quad \\delta R^-\\right )$$"
      ],
      "text/plain": [
       "(\\delta u, \\delta v, \\delta R⁺, \\delta R⁻)"
      ]
     },
     "execution_count": 8,
     "metadata": {},
     "output_type": "execute_result"
    }
   ],
   "source": [
    "du, dv, dRp, dRm = symbols('\\delta\\ u \\delta\\ v \\delta\\ R^+ \\delta\\ R^-')\n",
    "du, dv, dRp, dRm"
   ]
  },
  {
   "cell_type": "markdown",
   "metadata": {},
   "source": [
    "### First approach\n",
    "\n",
    "Wrong(?) way"
   ]
  },
  {
   "cell_type": "code",
   "execution_count": 9,
   "metadata": {},
   "outputs": [
    {
     "data": {
      "image/png": "[encoded data removed]",
      "text/latex": [
       "$$\\left[\\begin{matrix}R^{+}\\\\R^{-}\\end{matrix}\\right] = \\left[\\begin{matrix}- \\frac{2 u \\left(u + \\sqrt{u^{2} + 3 v}\\right)}{3} + v\\\\- \\frac{2 u \\left(u - \\sqrt{u^{2} + 3 v}\\right)}{3} + v\\end{matrix}\\right]$$"
      ],
      "text/plain": [
       "       ⎡      ⎛       __________⎞    ⎤\n",
       "       ⎢      ⎜      ╱  2       ⎟    ⎥\n",
       "       ⎢  2⋅u⋅⎝u + ╲╱  u  + 3⋅v ⎠    ⎥\n",
       "       ⎢- ─────────────────────── + v⎥\n",
       "⎡R⁺⎤   ⎢             3               ⎥\n",
       "⎢  ⎥ = ⎢                             ⎥\n",
       "⎣R⁻⎦   ⎢      ⎛       __________⎞    ⎥\n",
       "       ⎢      ⎜      ╱  2       ⎟    ⎥\n",
       "       ⎢  2⋅u⋅⎝u - ╲╱  u  + 3⋅v ⎠    ⎥\n",
       "       ⎢- ─────────────────────── + v⎥\n",
       "       ⎣             3               ⎦"
      ]
     },
     "execution_count": 9,
     "metadata": {},
     "output_type": "execute_result"
    }
   ],
   "source": [
    "Eq(Matrix([[Rp], [Rm]]), simplify(H * Matrix([[u], [v]])))"
   ]
  },
  {
   "cell_type": "code",
   "execution_count": 10,
   "metadata": {},
   "outputs": [
    {
     "data": {
      "image/png": "[encoded data removed]",
      "text/latex": [
       "$$\\left[\\begin{matrix}u\\\\v\\end{matrix}\\right] = \\left[\\begin{matrix}\\frac{3 \\left(- R^{+} + R^{-}\\right)}{4 \\sqrt{u^{2} + 3 v}}\\\\- \\frac{R^{+} u}{2 \\sqrt{u^{2} + 3 v}} + \\frac{R^{+}}{2} + \\frac{R^{-} u}{2 \\sqrt{u^{2} + 3 v}} + \\frac{R^{-}}{2}\\end{matrix}\\right]$$"
      ],
      "text/plain": [
       "      ⎡                 3⋅(-R⁺ + R⁻)                ⎤\n",
       "      ⎢               ───────────────               ⎥\n",
       "      ⎢                    __________               ⎥\n",
       "      ⎢                   ╱  2                      ⎥\n",
       "⎡u⎤   ⎢               4⋅╲╱  u  + 3⋅v                ⎥\n",
       "⎢ ⎥ = ⎢                                             ⎥\n",
       "⎣v⎦   ⎢        R⁺⋅u        R⁺         R⁻⋅u        R⁻⎥\n",
       "      ⎢- ─────────────── + ── + ─────────────── + ──⎥\n",
       "      ⎢       __________   2         __________   2 ⎥\n",
       "      ⎢      ╱  2                   ╱  2            ⎥\n",
       "      ⎣  2⋅╲╱  u  + 3⋅v         2⋅╲╱  u  + 3⋅v      ⎦"
      ]
     },
     "execution_count": 10,
     "metadata": {},
     "output_type": "execute_result"
    }
   ],
   "source": [
    "Eq(Matrix([[u], [v]]), simplify(H.inv() * Matrix([[Rp], [Rm]])))"
   ]
  },
  {
   "cell_type": "markdown",
   "metadata": {},
   "source": [
    "### Second approach"
   ]
  },
  {
   "cell_type": "code",
   "execution_count": 11,
   "metadata": {},
   "outputs": [
    {
     "data": {
      "image/png": "[encoded data removed]",
      "text/latex": [
       "$$\\left[\\begin{matrix}\\delta R^+\\\\\\delta R^-\\end{matrix}\\right] = \\left[\\begin{matrix}- \\frac{2 \\delta u \\left(u + \\sqrt{u^{2} + 3 v}\\right)}{3} + \\delta v\\\\- \\frac{2 \\delta u \\left(u - \\sqrt{u^{2} + 3 v}\\right)}{3} + \\delta v\\end{matrix}\\right]$$"
      ],
      "text/plain": [
       "              ⎡             ⎛       __________⎞           ⎤\n",
       "              ⎢             ⎜      ╱  2       ⎟           ⎥\n",
       "              ⎢  2⋅\\delta u⋅⎝u + ╲╱  u  + 3⋅v ⎠           ⎥\n",
       "              ⎢- ────────────────────────────── + \\delta v⎥\n",
       "⎡\\delta R⁺⎤   ⎢                3                          ⎥\n",
       "⎢         ⎥ = ⎢                                           ⎥\n",
       "⎣\\delta R⁻⎦   ⎢             ⎛       __________⎞           ⎥\n",
       "              ⎢             ⎜      ╱  2       ⎟           ⎥\n",
       "              ⎢  2⋅\\delta u⋅⎝u - ╲╱  u  + 3⋅v ⎠           ⎥\n",
       "              ⎢- ────────────────────────────── + \\delta v⎥\n",
       "              ⎣                3                          ⎦"
      ]
     },
     "execution_count": 11,
     "metadata": {},
     "output_type": "execute_result"
    }
   ],
   "source": [
    "Eq(Matrix([[dRp], [dRm]]), simplify(H * Matrix([[du], [dv]])))"
   ]
  },
  {
   "cell_type": "code",
   "execution_count": 12,
   "metadata": {},
   "outputs": [
    {
     "data": {
      "image/png": "[encoded data removed]",
      "text/latex": [
       "$$\\left[\\begin{matrix}\\delta u\\\\\\delta v\\end{matrix}\\right] = \\left[\\begin{matrix}\\frac{3 \\left(- \\delta R^+ + \\delta R^-\\right)}{4 \\sqrt{u^{2} + 3 v}}\\\\- \\frac{\\delta R^+ u}{2 \\sqrt{u^{2} + 3 v}} + \\frac{\\delta R^+}{2} + \\frac{\\delta R^- u}{2 \\sqrt{u^{2} + 3 v}} + \\frac{\\delta R^-}{2}\\end{matrix}\\right]$$"
      ],
      "text/plain": [
       "             ⎡                3⋅(-\\delta R⁺ + \\delta R⁻)                 ⎤\n",
       "             ⎢                ──────────────────────────                 ⎥\n",
       "             ⎢                          __________                       ⎥\n",
       "             ⎢                         ╱  2                              ⎥\n",
       "⎡\\delta u⎤   ⎢                     4⋅╲╱  u  + 3⋅v                        ⎥\n",
       "⎢        ⎥ = ⎢                                                           ⎥\n",
       "⎣\\delta v⎦   ⎢    \\delta R⁺⋅u     \\delta R⁺     \\delta R⁻⋅u     \\delta R⁻⎥\n",
       "             ⎢- ─────────────── + ───────── + ─────────────── + ─────────⎥\n",
       "             ⎢       __________       2            __________       2    ⎥\n",
       "             ⎢      ╱  2                          ╱  2                   ⎥\n",
       "             ⎣  2⋅╲╱  u  + 3⋅v                2⋅╲╱  u  + 3⋅v             ⎦"
      ]
     },
     "execution_count": 12,
     "metadata": {},
     "output_type": "execute_result"
    }
   ],
   "source": [
    "Eq(Matrix([[du], [dv]]), simplify(H.inv() * Matrix([[dRp], [dRm]])))"
   ]
  }
 ],
 "metadata": {
  "kernelspec": {
   "display_name": "Python 3",
   "language": "python",
   "name": "python3"
  },
  "language_info": {
   "codemirror_mode": {
    "name": "ipython",
    "version": 3
   },
   "file_extension": ".py",
   "mimetype": "text/x-python",
   "name": "python",
   "nbconvert_exporter": "python",
   "pygments_lexer": "ipython3",
   "version": "3.7.1"
  }
 },
 "nbformat": 4,
 "nbformat_minor": 2
}
