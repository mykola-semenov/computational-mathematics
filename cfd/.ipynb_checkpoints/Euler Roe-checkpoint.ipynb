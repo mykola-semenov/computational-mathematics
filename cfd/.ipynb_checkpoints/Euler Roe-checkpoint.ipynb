{
 "cells": [
  {
   "cell_type": "code",
   "execution_count": 1,
   "metadata": {},
   "outputs": [],
   "source": [
    "%store -r"
   ]
  },
  {
   "cell_type": "code",
   "execution_count": null,
   "metadata": {},
   "outputs": [],
   "source": [
    "gamma = 1.4     #Гамма, она же каппа\n",
    "#Различные формулы из гаммы\n",
    "g_m_1_over_2g = (gamma-1)/2/gamma      #g1\n",
    "g_p_1_over_2g = (gamma+1)/2/gamma      #g2\n",
    "g_m_1_over_2g_inv = 1/g_m_1_over_2g    #g3\n",
    "g_m_1_over_2_inv = 2/(gamma-1)         #g4\n",
    "g_p_1_over_2_inv = 2/(gamma+1)         #g5\n",
    "g_m_1_over_g_p_1 = (gamma-1)/(gamma+1) #g6\n",
    "g_m_1_over_2 = (gamma-1)/2             #g7\n",
    "g_m_1 = gamma-1"
   ]
  },
  {
   "cell_type": "code",
   "execution_count": null,
   "metadata": {},
   "outputs": [],
   "source": [
    "def init(case):\n",
    "    if case == 'sod':\n",
    "        W_l = np.array([1, 0.75, 1])\n",
    "        W_r = np.array([0.125, 0, 0.1])\n",
    "        t = 0.2\n",
    "    elif case == '123':\n",
    "        W_l = np.array([1, -2, 0.4])\n",
    "        W_r = np.array([1, 2, 0.4])\n",
    "        t = 0.15\n",
    "    elif case == 'left-woodward':\n",
    "        W_l = np.array([1, 0, 1000])\n",
    "        W_r = np.array([1, 0, 0.1])\n",
    "        t = 0.012\n",
    "    else : print('Unknown case!')\n",
    "    return W_l, W_r, t"
   ]
  },
  {
   "cell_type": "code",
   "execution_count": null,
   "metadata": {},
   "outputs": [],
   "source": [
    "def sound_speed(d, p):\n",
    "    return (gamma*(p/d))**0.5"
   ]
  },
  {
   "cell_type": "markdown",
   "metadata": {},
   "source": [
    "$$\\overline{u}, \\overline{H}, \\overline{a}$$\n",
    "\n",
    "$$\\overline{u} = \\dfrac{\\sqrt{\\rho_L}U_L+\\sqrt{\\rho_R}U_R}{\\sqrt{\\rho_L} + \\sqrt{\\rho_R}}$$\n",
    "\n",
    "$$\\overline{H} = \\dfrac{\\sqrt{\\rho_L}H_L+\\sqrt{\\rho_R}H_R}{\\sqrt{\\rho_L} + \\sqrt{\\rho_R}}$$\n",
    "\n",
    "$$\\overline{a} = ((\\gamma - 1)(\\overline{H} - \\frac{1}{2}\\overline{u}^2))^\\frac{1}{2}$$\n"
   ]
  },
  {
   "cell_type": "markdown",
   "metadata": {},
   "source": [
    "$$H = \\dfrac{E + p}{\\rho}$$\n",
    "\n",
    "$$E = \\dfrac{1}{2}\\rho V^2 + \\rho e$$\n",
    "\n",
    "$$e = \\dfrac{p}{(\\gamma - 1)\\rho}$$\n",
    "\n",
    "$$H = \\dfrac{1}{2}V^2 + \\dfrac{\\gamma}{\\gamma - 1}\\dfrac{p}{\\rho}$$"
   ]
  },
  {
   "cell_type": "markdown",
   "metadata": {},
   "source": [
    "$$\\overline{\\lambda}$$\n",
    "\n",
    "$$\\overline{\\lambda}_1 = \\overline{u} - \\overline{a}$$\n",
    "\n",
    "$$\\overline{\\lambda}_2 = \\overline{u}$$\n",
    "\n",
    "$$\\overline{\\lambda}_3 = \\overline{u} + \\overline{a}$$"
   ]
  },
  {
   "cell_type": "code",
   "execution_count": null,
   "metadata": {},
   "outputs": [],
   "source": []
  }
 ],
 "metadata": {
  "kernelspec": {
   "display_name": "Python 3",
   "language": "python",
   "name": "python3"
  },
  "language_info": {
   "codemirror_mode": {
    "name": "ipython",
    "version": 3
   },
   "file_extension": ".py",
   "mimetype": "text/x-python",
   "name": "python",
   "nbconvert_exporter": "python",
   "pygments_lexer": "ipython3",
   "version": "3.7.1"
  }
 },
 "nbformat": 4,
 "nbformat_minor": 2
}
