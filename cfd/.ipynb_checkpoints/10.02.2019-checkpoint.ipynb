{
 "cells": [
  {
   "cell_type": "code",
   "execution_count": 2,
   "metadata": {},
   "outputs": [],
   "source": [
    "%matplotlib inline\n",
    "import matplotlib\n",
    "from matplotlib import pyplot\n",
    "import numpy as np\n",
    "from matplotlib import rcParams\n",
    "rcParams['font.family'] = 'serif'\n",
    "rcParams['font.size'] = 16"
   ]
  },
  {
   "cell_type": "code",
   "execution_count": 44,
   "metadata": {
    "collapsed": true
   },
   "outputs": [],
   "source": [
    "gamma = 1.4 #kappa\n",
    "tol = 1e-8\n",
    "#different formules from gamma\n",
    "g_m_1_over_2g = (gamma - 1) / 2 / gamma #g1\n",
    "g_p_1_over_2g = (gamma + 1) / 2 / gamma #g2\n",
    "g_m_1_over_2g_inv = 1 / g_m_1_over_2g #g3\n",
    "g_m_1_over_2_inv = 2 / (gamma - 1) #g4\n",
    "g_p_1_over_2_inv = 2 / (gamma + 1) #g5\n",
    "g_m_1_over_g_p_1 = (gamma - 1) / (gamma + 1) #g6\n",
    "g_m_1_over_2 = (gamma - 1) / 2 #g7\n",
    "g_m_1 = gamma - 1  "
   ]
  },
  {
   "cell_type": "code",
   "execution_count": 45,
   "metadata": {
    "collapsed": true
   },
   "outputs": [],
   "source": [
    "def sound_speed(d, p):\n",
    "    return (gamma*(p/d))**0.5"
   ]
  },
  {
   "cell_type": "code",
   "execution_count": 46,
   "metadata": {
    "collapsed": true
   },
   "outputs": [],
   "source": [
    "def calc_f(p, d_k, u_k, p_k):\n",
    "    c_k = sound_speed(d_k, p_k)\n",
    "    \n",
    "    if p > p_k:\n",
    "        A = g_p_1_over_2_inv / d_k\n",
    "        B = g_m_1_over_g_p_1 * p_k\n",
    "        f = (p - p_k) * (A / (p + B))**0.5\n",
    "        f_deriv = (A / (p + B))**0.5*(1 - 0.5*(p - p_k) / (p + B))\n",
    "    else:\n",
    "        f = g_m_1_over_2_inv*c_k*((p/p_k)**g_m_1_over_2g - 1)\n",
    "        f_deriv = ((p/p_k)**(-g_p_1_over_2g))/(d_k*c_k)\n",
    "        \n",
    "        return f,f_deriv\n",
    "            "
   ]
  },
  {
   "cell_type": "code",
   "execution_count": 47,
   "metadata": {
    "collapsed": true
   },
   "outputs": [],
   "source": [
    "def guess_p(W_l,W_r,label):\n",
    "    c_l = sound_speed(W_l[0],W_l[2])\n",
    "    c_r = sound_speed(W_r[0],W_r[2])\n",
    "        \n",
    "    W_aver = 0.5*(W_l+W_r)\n",
    "    p_pv = W_aver[2] - 0.5*(W_r[1]-W_l[1])*W_aver[0]*0.5*(c_l + c_r)\n",
    "    p_0 = max(tol,p_pv)\n",
    "    \n",
    "    if label == 'TR':\n",
    "        return ((c_l + c_r - 0.5*g_m_1*(W_r[1] - W_l[1]))/\n",
    "                ((c_l/W_l[2]**g_m_1_over_2g) + (c_r/W_r[2]**g_m_1_over_2g) ))**g_m_1_over_2g_inv\n",
    "    \n",
    "    elif label == 'PV':\n",
    "        \n",
    "        return p_0\n",
    "    \n",
    "    elif label == 'TS':\n",
    "        A_k = lambda x : g_p_1_over_2_inv/x\n",
    "        B_k = lambda x : g_m_1_over_g_p_1*x\n",
    "        p_ts = ((A_k(W_l[0])/(p_pv + B_k(W_l[2])))**0.5*W_l[2] + (A_k(W_r[0])/(p_pv + B_k(W_r[2])))**0.5*W_r[2] \\\n",
    "               - (W_r[1]-W_l[1])) /\\\n",
    "        ((A_k(W_l[0])/(p_pv + B_k(W_l[2])))**0.5 + (A_k(W_r[0]) / (p_pv + B_k(W_r[2])))**0.5)\n",
    "        return max(tol, p_ts)\n",
    "        \n",
    "    else:\n",
    "        return W_aver[2]\n",
    "                     "
   ]
  },
  {
   "cell_type": "code",
   "execution_count": 48,
   "metadata": {
    "collapsed": true
   },
   "outputs": [],
   "source": [
    "def init(case):\n",
    "    if case == 'sod':\n",
    "        W_l = np.array([1, 0, 1])\n",
    "        W_r = np.array([0.125, 0, 0.1])\n",
    "    elif case == '123':                    #волна разрежения\n",
    "        W_l = np.array([1, -2, 0.4])\n",
    "        W_r = np.array([1, 2, 0.4])\n",
    "    elif case == 'left-woodward':\n",
    "        W_l = np.array([1, 0, 1000])\n",
    "        W_r = np.array([1, 0, 0.1])\n",
    "    else : print('Unknown case!')\n",
    "    return W_l,W_r    \n",
    "        \n",
    "        "
   ]
  },
  {
   "cell_type": "code",
   "execution_count": 58,
   "metadata": {},
   "outputs": [],
   "source": [
    "W_l,W_r = init('sod')"
   ]
  },
  {
   "cell_type": "code",
   "execution_count": 50,
   "metadata": {},
   "outputs": [
    {
     "data": {
      "text/plain": [
       "0.55000000000000004"
      ]
     },
     "execution_count": 50,
     "metadata": {},
     "output_type": "execute_result"
    }
   ],
   "source": [
    "guess_p(W_l,W_r,'var')"
   ]
  },
  {
   "cell_type": "code",
   "execution_count": 51,
   "metadata": {},
   "outputs": [
    {
     "data": {
      "text/plain": [
       "0.55000000000000004"
      ]
     },
     "execution_count": 51,
     "metadata": {},
     "output_type": "execute_result"
    }
   ],
   "source": [
    "guess_p(W_l,W_r,'PV')"
   ]
  },
  {
   "cell_type": "code",
   "execution_count": 57,
   "metadata": {},
   "outputs": [
    {
     "data": {
      "text/plain": [
       "0.31526852260996635"
      ]
     },
     "execution_count": 57,
     "metadata": {},
     "output_type": "execute_result"
    }
   ],
   "source": [
    "guess_p(W_l,W_r,'TS')"
   ]
  },
  {
   "cell_type": "code",
   "execution_count": 68,
   "metadata": {
    "collapsed": true
   },
   "outputs": [],
   "source": [
    "def newton_ravsan(p_init, W_l, W_r):\n",
    "    p_new = 1000\n",
    "    p_curr = p_init\n",
    "    change = abs(2*(p_new - p_curr) / (p_new + p_curr))\n",
    "    i = 0\n",
    "    while change >  tol:\n",
    "        f_l = calc_f(p_curr, *W_l)\n",
    "        f_r = calc_f(p_curr, *W_r)\n",
    "        print(f_l, f_r)\n",
    "        p_new = p_curr - (f_l[0] + f_r[0] + W_r[1] - W_l[1])/(f_l[1] + f_r[1])\n",
    "        change = abs(2*(p_new - p_curr) / (p_new + p_curr))\n",
    "        p_curr = p_new\n",
    "        i = i + 1\n",
    "    return p_new,i    \n",
    "        \n",
    "        "
   ]
  },
  {
   "cell_type": "code",
   "execution_count": 69,
   "metadata": {},
   "outputs": [
    {
     "name": "stdout",
     "output_type": "stream",
     "text": [
      "(-0.89939323106676117, 2.2732034949137336) None\n"
     ]
    },
    {
     "ename": "TypeError",
     "evalue": "'NoneType' object is not subscriptable",
     "output_type": "error",
     "traceback": [
      "\u001b[1;31m---------------------------------------------------------------------------\u001b[0m",
      "\u001b[1;31mTypeError\u001b[0m                                 Traceback (most recent call last)",
      "\u001b[1;32m<ipython-input-69-1677020ff321>\u001b[0m in \u001b[0;36m<module>\u001b[1;34m()\u001b[0m\n\u001b[1;32m----> 1\u001b[1;33m \u001b[0mnewton_ravsan\u001b[0m\u001b[1;33m(\u001b[0m\u001b[0mguess_p\u001b[0m\u001b[1;33m(\u001b[0m\u001b[0mW_l\u001b[0m\u001b[1;33m,\u001b[0m\u001b[0mW_r\u001b[0m\u001b[1;33m,\u001b[0m\u001b[1;34m'TS'\u001b[0m\u001b[1;33m)\u001b[0m\u001b[1;33m,\u001b[0m\u001b[0mW_l\u001b[0m\u001b[1;33m,\u001b[0m\u001b[0mW_r\u001b[0m\u001b[1;33m)\u001b[0m\u001b[1;33m\u001b[0m\u001b[0m\n\u001b[0m",
      "\u001b[1;32m<ipython-input-68-39cd6a83eba0>\u001b[0m in \u001b[0;36mnewton_ravsan\u001b[1;34m(p_init, W_l, W_r)\u001b[0m\n\u001b[0;32m      8\u001b[0m         \u001b[0mf_r\u001b[0m \u001b[1;33m=\u001b[0m \u001b[0mcalc_f\u001b[0m\u001b[1;33m(\u001b[0m\u001b[0mp_curr\u001b[0m\u001b[1;33m,\u001b[0m \u001b[1;33m*\u001b[0m\u001b[0mW_r\u001b[0m\u001b[1;33m)\u001b[0m\u001b[1;33m\u001b[0m\u001b[0m\n\u001b[0;32m      9\u001b[0m         \u001b[0mprint\u001b[0m\u001b[1;33m(\u001b[0m\u001b[0mf_l\u001b[0m\u001b[1;33m,\u001b[0m \u001b[0mf_r\u001b[0m\u001b[1;33m)\u001b[0m\u001b[1;33m\u001b[0m\u001b[0m\n\u001b[1;32m---> 10\u001b[1;33m         \u001b[0mp_new\u001b[0m \u001b[1;33m=\u001b[0m \u001b[0mp_curr\u001b[0m \u001b[1;33m-\u001b[0m \u001b[1;33m(\u001b[0m\u001b[0mf_l\u001b[0m\u001b[1;33m[\u001b[0m\u001b[1;36m0\u001b[0m\u001b[1;33m]\u001b[0m \u001b[1;33m+\u001b[0m \u001b[0mf_r\u001b[0m\u001b[1;33m[\u001b[0m\u001b[1;36m0\u001b[0m\u001b[1;33m]\u001b[0m \u001b[1;33m+\u001b[0m \u001b[0mW_r\u001b[0m\u001b[1;33m[\u001b[0m\u001b[1;36m1\u001b[0m\u001b[1;33m]\u001b[0m \u001b[1;33m-\u001b[0m \u001b[0mW_l\u001b[0m\u001b[1;33m[\u001b[0m\u001b[1;36m1\u001b[0m\u001b[1;33m]\u001b[0m\u001b[1;33m)\u001b[0m\u001b[1;33m/\u001b[0m\u001b[1;33m(\u001b[0m\u001b[0mf_l\u001b[0m\u001b[1;33m[\u001b[0m\u001b[1;36m1\u001b[0m\u001b[1;33m]\u001b[0m \u001b[1;33m+\u001b[0m \u001b[0mf_r\u001b[0m\u001b[1;33m[\u001b[0m\u001b[1;36m1\u001b[0m\u001b[1;33m]\u001b[0m\u001b[1;33m)\u001b[0m\u001b[1;33m\u001b[0m\u001b[0m\n\u001b[0m\u001b[0;32m     11\u001b[0m         \u001b[0mchange\u001b[0m \u001b[1;33m=\u001b[0m \u001b[0mabs\u001b[0m\u001b[1;33m(\u001b[0m\u001b[1;36m2\u001b[0m\u001b[1;33m*\u001b[0m\u001b[1;33m(\u001b[0m\u001b[0mp_new\u001b[0m \u001b[1;33m-\u001b[0m \u001b[0mp_curr\u001b[0m\u001b[1;33m)\u001b[0m \u001b[1;33m/\u001b[0m \u001b[1;33m(\u001b[0m\u001b[0mp_new\u001b[0m \u001b[1;33m+\u001b[0m \u001b[0mp_curr\u001b[0m\u001b[1;33m)\u001b[0m\u001b[1;33m)\u001b[0m\u001b[1;33m\u001b[0m\u001b[0m\n\u001b[0;32m     12\u001b[0m         \u001b[0mp_curr\u001b[0m \u001b[1;33m=\u001b[0m \u001b[0mp_new\u001b[0m\u001b[1;33m\u001b[0m\u001b[0m\n",
      "\u001b[1;31mTypeError\u001b[0m: 'NoneType' object is not subscriptable"
     ]
    }
   ],
   "source": [
    "newton_ravsan(guess_p(W_l,W_r,'TS'),W_l,W_r)"
   ]
  },
  {
   "cell_type": "code",
   "execution_count": null,
   "metadata": {
    "collapsed": true
   },
   "outputs": [],
   "source": []
  }
 ],
 "metadata": {
  "kernelspec": {
   "display_name": "Python 3",
   "language": "python",
   "name": "python3"
  },
  "language_info": {
   "codemirror_mode": {
    "name": "ipython",
    "version": 3
   },
   "file_extension": ".py",
   "mimetype": "text/x-python",
   "name": "python",
   "nbconvert_exporter": "python",
   "pygments_lexer": "ipython3",
   "version": "3.6.6"
  }
 },
 "nbformat": 4,
 "nbformat_minor": 1
}
