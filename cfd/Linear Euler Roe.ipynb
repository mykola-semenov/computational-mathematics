{
 "cells": [
  {
   "cell_type": "code",
   "execution_count": 1,
   "metadata": {},
   "outputs": [],
   "source": [
    "import numpy as np\n",
    "import matplotlib.pyplot as plt"
   ]
  },
  {
   "cell_type": "code",
   "execution_count": 2,
   "metadata": {},
   "outputs": [],
   "source": [
    "#Toro 2009, 212, 215 (193), Начальные данные -- лекция 6"
   ]
  },
  {
   "cell_type": "code",
   "execution_count": 3,
   "metadata": {},
   "outputs": [],
   "source": [
    "#A+ = [[a rho0] [a^2/rho0 a]]"
   ]
  },
  {
   "cell_type": "code",
   "execution_count": 4,
   "metadata": {},
   "outputs": [],
   "source": [
    "def little_water(u_0, x_0, x_1, a, rho_0, T, sigma):\n",
    "    \n",
    "    n_x = u_0.shape[1]\n",
    "    \n",
    "    A = np.array([[0, rho_0], \n",
    "                  [a ** 2/ rho_0, 0]])\n",
    "    \n",
    "    A_mod = np.array([[a, 0],\n",
    "                      [0, a]])\n",
    "\n",
    "    x = np.linspace(x_0, x_1, n_x)\n",
    "    dx = x[1] - x[0]\n",
    "    \n",
    "    u = np.copy(u_0)\n",
    "    u_n = np.copy(u_0)\n",
    "    \n",
    "    fluxes = np.zeros((2, n_x - 1))\n",
    "    \n",
    "    dt = sigma * dx / a\n",
    "    t = 0\n",
    "    while t < T:\n",
    "        fluxes = 0.5 * (np.dot(A, (u[:, :-1] + u[:, 1:])) - np.dot(A_mod, (u[:, 1:] - u[:, :-1])))\n",
    "        u_n[:,1:-1] = u[:, 1:-1] + dt/dx*(fluxes[:,:-1]-fluxes[:,1:])\n",
    "        u_n[:,0] = u_n[:,1]\n",
    "        u_n[:,-1] = u_n[:,-2]\n",
    "        u = np.copy(u_n)\n",
    "        t = t + dt\n",
    "\n",
    "    plt.figure(figsize=(8, 6))\n",
    "    plt.ylim(0, 1.1)\n",
    "    plt.xlim(-2.1, 2.1)\n",
    "    plt.plot(x, u_n[0], '-o', label = r'$\\rho$');\n",
    "    plt.plot(x, u_n[1], '-o', label = r'$u$')\n",
    "    plt.legend(loc='best')\n",
    "    plt.grid()"
   ]
  },
  {
   "cell_type": "code",
   "execution_count": 5,
   "metadata": {},
   "outputs": [],
   "source": [
    "x_0 = -2\n",
    "x_1 = 2\n",
    "n_x = 81\n",
    "\n",
    "x = np.linspace(x_0, x_1, n_x)\n",
    "\n",
    "u = np.zeros((2, n_x))\n",
    "\n",
    "rho_l = 1.0\n",
    "rho_r = 0.5\n",
    "\n",
    "u_l = 0.0\n",
    "u_r = 0.0\n",
    "\n",
    "u[0, x<=0] = rho_l\n",
    "u[1, x<=0] = u_l\n",
    "u[0, x>0] = rho_r\n",
    "u[1, x>0] = u_r"
   ]
  },
  {
   "cell_type": "code",
   "execution_count": 8,
   "metadata": {},
   "outputs": [
    {
     "data": {
      "image/png": "[encoded data removed]",
      "text/plain": [
       "<Figure size 576x432 with 1 Axes>"
      ]
     },
     "metadata": {
      "needs_background": "light"
     },
     "output_type": "display_data"
    }
   ],
   "source": [
    "little_water(u, -2, 2, 1, 1, 0.5, 1)"
   ]
  },
  {
   "cell_type": "code",
   "execution_count": null,
   "metadata": {},
   "outputs": [],
   "source": []
  }
 ],
 "metadata": {
  "kernelspec": {
   "display_name": "Python 3",
   "language": "python",
   "name": "python3"
  },
  "language_info": {
   "codemirror_mode": {
    "name": "ipython",
    "version": 3
   },
   "file_extension": ".py",
   "mimetype": "text/x-python",
   "name": "python",
   "nbconvert_exporter": "python",
   "pygments_lexer": "ipython3",
   "version": "3.7.1"
  }
 },
 "nbformat": 4,
 "nbformat_minor": 2
}
